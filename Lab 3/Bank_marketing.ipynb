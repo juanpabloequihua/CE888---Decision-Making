{
 "cells": [
  {
   "cell_type": "code",
   "execution_count": 1,
   "metadata": {},
   "outputs": [],
   "source": [
    "#### My own task. CE888 Decision Making Lab 3\n",
    "### This notebook is created following the Lab Slides.\n"
   ]
  },
  {
   "cell_type": "code",
   "execution_count": 9,
   "metadata": {},
   "outputs": [],
   "source": [
    "# Loading Data set \n",
    "#train = pd.read_csv('/Users/juanpabloequihualinares/Desktop/MSc Data Science/Machine Learning and Data 18_Data.csv')\n",
    "import pandas as pd\n",
    "import numpy as np\n",
    "\n",
    "bank=pd.read_csv('bank-additional-full.csv',sep=\";\")"
   ]
  },
  {
   "cell_type": "code",
   "execution_count": 70,
   "metadata": {},
   "outputs": [],
   "source": [
    "bank_dummies=pd.get_dummies(bank)\n",
    "\n",
    "columns=bank_dummies.columns\n",
    "\n",
    "features=columns[:-2]\n",
    "target=[\"y_yes\"]\n",
    "\n",
    "bank_train=bank_dummies[features]\n",
    "bank_target=bank_dummies[target]\n",
    "\n",
    "drop_cols=['duration']\n",
    "bank_train=bank_train.drop(drop_cols, axis=1)"
   ]
  },
  {
   "cell_type": "code",
   "execution_count": 76,
   "metadata": {},
   "outputs": [
    {
     "name": "stdout",
     "output_type": "stream",
     "text": [
      "4640\n"
     ]
    },
    {
     "data": {
      "image/png": "[encoded data removed]",
      "text/plain": [
       "<Figure size 432x288 with 1 Axes>"
      ]
     },
     "metadata": {
      "needs_background": "light"
     },
     "output_type": "display_data"
    }
   ],
   "source": [
    "## Targer Histogram\n",
    "bank_target['y_yes'].value_counts().plot(kind='bar')\n",
    "print(sum(bank_target['y_yes']))\n"
   ]
  },
  {
   "cell_type": "code",
   "execution_count": 77,
   "metadata": {},
   "outputs": [
    {
     "name": "stderr",
     "output_type": "stream",
     "text": [
      "/Users/juanpabloequihualinares/anaconda3/lib/python3.7/site-packages/ipykernel_launcher.py:5: DataConversionWarning: A column-vector y was passed when a 1d array was expected. Please change the shape of y to (n_samples,), for example using ravel().\n",
      "  \"\"\"\n"
     ]
    },
    {
     "data": {
      "text/plain": [
       "ExtraTreesClassifier(bootstrap=False, class_weight=None, criterion='gini',\n",
       "           max_depth=4, max_features='auto', max_leaf_nodes=None,\n",
       "           min_impurity_decrease=0.0, min_impurity_split=None,\n",
       "           min_samples_leaf=30, min_samples_split=40,\n",
       "           min_weight_fraction_leaf=0.0, n_estimators=100, n_jobs=None,\n",
       "           oob_score=False, random_state=None, verbose=0, warm_start=False)"
      ]
     },
     "execution_count": 77,
     "metadata": {},
     "output_type": "execute_result"
    }
   ],
   "source": [
    "from sklearn.ensemble import ExtraTreesClassifier\n",
    "\n",
    "extc = ExtraTreesClassifier(n_estimators=100,min_samples_split= 40,\n",
    "                            max_depth= 4, min_samples_leaf= 30)      \n",
    "extc.fit(bank_train,bank_target)          "
   ]
  },
  {
   "cell_type": "code",
   "execution_count": 91,
   "metadata": {},
   "outputs": [
    {
     "name": "stdout",
     "output_type": "stream",
     "text": [
      "----Accuracy:\n",
      "[ 0.8873513   0.8873513   0.8873513   0.8873513   0.8873513   0.88759408\n",
      "  0.8873513   0.62539451  0.88805245  0.5621661 ]\n",
      "0.828731493531\n"
     ]
    }
   ],
   "source": [
    "## Cross Validation \n",
    "\n",
    "from sklearn.model_selection import cross_val_score\n",
    "print(\"----Accuracy:\")\n",
    "scores_extc = cross_val_score(estimator=extc, X=bank_train, y=bank_target, cv=10, n_jobs=4,scoring='accuracy')\n",
    "print(scores_extc)\n",
    "print(scores_extc.mean())"
   ]
  },
  {
   "cell_type": "code",
   "execution_count": 98,
   "metadata": {},
   "outputs": [],
   "source": [
    "\n",
    "from sklearn.metrics import classification_report, confusion_matrix  \n",
    "import itertools\n",
    "\n",
    "def plot_confusion_matrix(cm, classes,\n",
    "                          normalize=False,\n",
    "                          title='Confusion matrix',\n",
    "                          cmap=plt.cm.Blues):\n",
    "    \"\"\"\n",
    "    This function prints and plots the confusion matrix.\n",
    "    Normalization can be applied by setting `normalize=True`.\n",
    "    \"\"\"\n",
    "    plt.imshow(cm, interpolation='nearest', cmap=cmap)\n",
    "    plt.title(title)\n",
    "    plt.colorbar()\n",
    "    tick_marks = np.arange(len(classes))\n",
    "    plt.xticks(tick_marks, classes, rotation=45)\n",
    "    plt.yticks(tick_marks, classes)\n",
    "\n",
    "    if normalize:\n",
    "        cm = cm.astype('float') / cm.sum(axis=1)[:, np.newaxis]\n",
    "        print(\"Normalized confusion matrix\")\n",
    "    else:\n",
    "        print('Confusion matrix, without normalization')\n",
    "\n",
    "    thresh = cm.max() / 2.\n",
    "    for i, j in itertools.product(range(cm.shape[0]), range(cm.shape[1])):\n",
    "        t = \"(%.2f)\"%(cm[i, j])\n",
    "        #print t\n",
    "#         plt.text(j, i, t,\n",
    "#                  horizontalalignment=\"center\",\n",
    "#                  color=\"white\" if cm[i, j] > thresh else \"black\")\n",
    "\n",
    "    plt.tight_layout()\n",
    "    plt.ylabel('True label')\n",
    "    plt.xlabel('Predicted label')\n",
    "\n"
   ]
  },
  {
   "cell_type": "code",
   "execution_count": 99,
   "metadata": {},
   "outputs": [
    {
     "name": "stdout",
     "output_type": "stream",
     "text": [
      "[[36257   291]\n",
      " [ 3861   779]]\n",
      "-------------\n",
      "              precision    recall  f1-score   support\n",
      "\n",
      "           0       0.90      0.99      0.95     36548\n",
      "           1       0.73      0.17      0.27      4640\n",
      "\n",
      "   micro avg       0.90      0.90      0.90     41188\n",
      "   macro avg       0.82      0.58      0.61     41188\n",
      "weighted avg       0.88      0.90      0.87     41188\n",
      "\n",
      "-------------\n",
      "Normalized confusion matrix\n"
     ]
    },
    {
     "data": {
      "image/png": "[encoded data removed]",
      "text/plain": [
       "<Figure size 432x288 with 2 Axes>"
      ]
     },
     "metadata": {
      "needs_background": "light"
     },
     "output_type": "display_data"
    }
   ],
   "source": [
    "# Confusion Matrix\n",
    "\n",
    "extc_y_pred = extc.predict(bank_train)\n",
    "extc_cnf_matrix = confusion_matrix(bank_target, extc_y_pred)\n",
    "np.set_printoptions(precision=2)\n",
    "\n",
    "print(confusion_matrix(bank_target,extc_y_pred))  \n",
    "\n",
    "print(\"-------------\")\n",
    "\n",
    "print(classification_report(bank_target,extc_y_pred)) \n",
    "print(\"-------------\")\n",
    "\n",
    "# Plot non-normalized confusion matrix\n",
    "plt.figure()\n",
    "plot_confusion_matrix(extc_cnf_matrix, classes=range(len(set(bank_target))), normalize = True,\n",
    "                      title='Confusion matrix')\n",
    "\n",
    "#plt.savefig(\"confusion.png\",bbox_inches='tight')\n",
    "#plt.savefig(\"confusion.pdf\",bbox_inches='tight')"
   ]
  },
  {
   "cell_type": "code",
   "execution_count": null,
   "metadata": {},
   "outputs": [],
   "source": []
  }
 ],
 "metadata": {
  "kernelspec": {
   "display_name": "Python 3",
   "language": "python",
   "name": "python3"
  },
  "language_info": {
   "codemirror_mode": {
    "name": "ipython",
    "version": 3
   },
   "file_extension": ".py",
   "mimetype": "text/x-python",
   "name": "python",
   "nbconvert_exporter": "python",
   "pygments_lexer": "ipython3",
   "version": "3.7.0"
  }
 },
 "nbformat": 4,
 "nbformat_minor": 2
}
