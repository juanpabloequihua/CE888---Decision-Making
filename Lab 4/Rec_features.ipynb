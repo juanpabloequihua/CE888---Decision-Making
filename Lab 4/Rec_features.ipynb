{
 "cells": [
  {
   "cell_type": "markdown",
   "metadata": {
    "slideshow": {
     "slide_type": "slide"
    }
   },
   "source": [
    "# Hybrid Models for Recommendation Systems"
   ]
  },
  {
   "cell_type": "markdown",
   "metadata": {
    "slideshow": {
     "slide_type": "slide"
    }
   },
   "source": [
    "Load Pandas, we are going to need it for manipulating data"
   ]
  },
  {
   "cell_type": "code",
   "execution_count": 1,
   "metadata": {
    "slideshow": {
     "slide_type": "fragment"
    }
   },
   "outputs": [],
   "source": [
    "import pandas as pd\n",
    "import numpy as np\n",
    "from IPython.display import Image\n",
    "np.set_printoptions(precision = 3)"
   ]
  },
  {
   "cell_type": "markdown",
   "metadata": {
    "slideshow": {
     "slide_type": "slide"
    }
   },
   "source": [
    "Now load the data"
   ]
  },
  {
   "cell_type": "code",
   "execution_count": 18,
   "metadata": {
    "slideshow": {
     "slide_type": "fragment"
    }
   },
   "outputs": [
    {
     "name": "stdout",
     "output_type": "stream",
     "text": [
      "   Sex   Over60  key  user_id  Critic0   Critic1  item_id  \\\n",
      "0  1.0      0.0    0        0      0.3       0.9        0   \n",
      "1  1.0      0.0    0        0      0.9       0.3        1   \n",
      "2  1.0      0.0    0        0      0.6       0.4        2   \n",
      "3  1.0      0.0    0        0      0.2       0.1        3   \n",
      "4  1.0      0.0    0        0      0.7       0.8        4   \n",
      "0  0.0      1.0    0        1      0.3       0.9        0   \n",
      "1  0.0      1.0    0        1      0.9       0.3        1   \n",
      "2  0.0      1.0    0        1      0.6       0.4        2   \n",
      "3  0.0      1.0    0        1      0.2       0.1        3   \n",
      "4  0.0      1.0    0        1      0.7       0.8        4   \n",
      "0  0.0      0.0    0        2      0.3       0.9        0   \n",
      "1  0.0      0.0    0        2      0.9       0.3        1   \n",
      "2  0.0      0.0    0        2      0.6       0.4        2   \n",
      "3  0.0      0.0    0        2      0.2       0.1        3   \n",
      "4  0.0      0.0    0        2      0.7       0.8        4   \n",
      "0  1.0      0.0    0        3      0.3       0.9        0   \n",
      "1  1.0      0.0    0        3      0.9       0.3        1   \n",
      "2  1.0      0.0    0        3      0.6       0.4        2   \n",
      "3  1.0      0.0    0        3      0.2       0.1        3   \n",
      "4  1.0      0.0    0        3      0.7       0.8        4   \n",
      "0  0.0      1.0    0        4      0.3       0.9        0   \n",
      "1  0.0      1.0    0        4      0.9       0.3        1   \n",
      "2  0.0      1.0    0        4      0.6       0.4        2   \n",
      "3  0.0      1.0    0        4      0.2       0.1        3   \n",
      "4  0.0      1.0    0        4      0.7       0.8        4   \n",
      "0  0.0      0.0    0        5      0.3       0.9        0   \n",
      "1  0.0      0.0    0        5      0.9       0.3        1   \n",
      "2  0.0      0.0    0        5      0.6       0.4        2   \n",
      "3  0.0      0.0    0        5      0.2       0.1        3   \n",
      "4  0.0      0.0    0        5      0.7       0.8        4   \n",
      "0  0.0      0.0    0        6      0.3       0.9        0   \n",
      "1  0.0      0.0    0        6      0.9       0.3        1   \n",
      "2  0.0      0.0    0        6      0.6       0.4        2   \n",
      "3  0.0      0.0    0        6      0.2       0.1        3   \n",
      "4  0.0      0.0    0        6      0.7       0.8        4   \n",
      "0  1.0      0.0    0        7      0.3       0.9        0   \n",
      "1  1.0      0.0    0        7      0.9       0.3        1   \n",
      "2  1.0      0.0    0        7      0.6       0.4        2   \n",
      "3  1.0      0.0    0        7      0.2       0.1        3   \n",
      "4  1.0      0.0    0        7      0.7       0.8        4   \n",
      "0  0.0      1.0    0        8      0.3       0.9        0   \n",
      "1  0.0      1.0    0        8      0.9       0.3        1   \n",
      "2  0.0      1.0    0        8      0.6       0.4        2   \n",
      "3  0.0      1.0    0        8      0.2       0.1        3   \n",
      "4  0.0      1.0    0        8      0.7       0.8        4   \n",
      "0  1.0      0.0    0        9      0.3       0.9        0   \n",
      "1  1.0      0.0    0        9      0.9       0.3        1   \n",
      "2  1.0      0.0    0        9      0.6       0.4        2   \n",
      "3  1.0      0.0    0        9      0.2       0.1        3   \n",
      "4  1.0      0.0    0        9      0.7       0.8        4   \n",
      "\n",
      "                        rating  \n",
      "0  <map object at 0x10e650828>  \n",
      "1  <map object at 0x10e650828>  \n",
      "2  <map object at 0x10e650828>  \n",
      "3  <map object at 0x10e650828>  \n",
      "4  <map object at 0x10e650828>  \n",
      "0  <map object at 0x10e650828>  \n",
      "1  <map object at 0x10e650828>  \n",
      "2  <map object at 0x10e650828>  \n",
      "3  <map object at 0x10e650828>  \n",
      "4  <map object at 0x10e650828>  \n",
      "0  <map object at 0x10e650828>  \n",
      "1  <map object at 0x10e650828>  \n",
      "2  <map object at 0x10e650828>  \n",
      "3  <map object at 0x10e650828>  \n",
      "4  <map object at 0x10e650828>  \n",
      "0  <map object at 0x10e650828>  \n",
      "1  <map object at 0x10e650828>  \n",
      "2  <map object at 0x10e650828>  \n",
      "3  <map object at 0x10e650828>  \n",
      "4  <map object at 0x10e650828>  \n",
      "0  <map object at 0x10e650828>  \n",
      "1  <map object at 0x10e650828>  \n",
      "2  <map object at 0x10e650828>  \n",
      "3  <map object at 0x10e650828>  \n",
      "4  <map object at 0x10e650828>  \n",
      "0  <map object at 0x10e650828>  \n",
      "1  <map object at 0x10e650828>  \n",
      "2  <map object at 0x10e650828>  \n",
      "3  <map object at 0x10e650828>  \n",
      "4  <map object at 0x10e650828>  \n",
      "0  <map object at 0x10e650828>  \n",
      "1  <map object at 0x10e650828>  \n",
      "2  <map object at 0x10e650828>  \n",
      "3  <map object at 0x10e650828>  \n",
      "4  <map object at 0x10e650828>  \n",
      "0  <map object at 0x10e650828>  \n",
      "1  <map object at 0x10e650828>  \n",
      "2  <map object at 0x10e650828>  \n",
      "3  <map object at 0x10e650828>  \n",
      "4  <map object at 0x10e650828>  \n",
      "0  <map object at 0x10e650828>  \n",
      "1  <map object at 0x10e650828>  \n",
      "2  <map object at 0x10e650828>  \n",
      "3  <map object at 0x10e650828>  \n",
      "4  <map object at 0x10e650828>  \n",
      "0  <map object at 0x10e650828>  \n",
      "1  <map object at 0x10e650828>  \n",
      "2  <map object at 0x10e650828>  \n",
      "3  <map object at 0x10e650828>  \n",
      "4  <map object at 0x10e650828>  \n",
      "\\begin{tabular}{lrrrrrrrl}\n",
      "\\toprule\n",
      "Empty DataFrame\n",
      "Columns: Index(['Sex', ' Over60', 'key', 'user\\_id', 'Critic0', ' Critic1', 'item\\_id',\n",
      "       'rating'],\n",
      "      dtype='object')\n",
      "Index: Int64Index([], dtype='int64') \\\\\n",
      "\\bottomrule\n",
      "\\end{tabular}\n",
      "\n"
     ]
    }
   ],
   "source": [
    "user_ratings_df = pd.read_csv(\"user_ratings.csv\")\n",
    "user_features_df = pd.read_csv(\"user_features.csv\")\n",
    "item_features_df = pd.read_csv(\"item_features.csv\")\n",
    "\n",
    "\n",
    "user_features_df[\"key\"] = 0\n",
    "user_features_df[\"user_id\"] = range(0,user_features_df.shape[0])\n",
    "item_features_df[\"key\"] = 0\n",
    "item_features_df[\"item_id\"] = range(0,item_features_df.shape[0])\n",
    "\n",
    "merged_df = pd.merge(user_features_df, item_features_df,left_index=True,on=\"key\")\n",
    "merged_df[[\"item_id\", \"user_id\"]]\n",
    "\n",
    "#print(merged_df)\n",
    "\n",
    "\n",
    "merged_df[\"rating\"] = map(lambda ids: user_ratings_df.values[ids[1]][ids[2]], \n",
    "                          merged_df[[\"user_id\", \"item_id\"]].itertuples())\n",
    "print(merged_df)\n",
    "train = merged_df.dropna()\n",
    "\n",
    "test = merged_df[merged_df.isnull().any(axis=1)]\n",
    "\n",
    "print (test.to_latex())\n",
    "\n"
   ]
  },
  {
   "cell_type": "code",
   "execution_count": null,
   "metadata": {},
   "outputs": [],
   "source": [
    "\n"
   ]
  },
  {
   "cell_type": "code",
   "execution_count": 32,
   "metadata": {
    "slideshow": {
     "slide_type": "slide"
    }
   },
   "outputs": [
    {
     "name": "stdout",
     "output_type": "stream",
     "text": [
      "\\begin{tabular}{lrrrr}\n",
      "\\toprule\n",
      "{} &  Critic0 &   Critic1 &  key &  item\\_id \\\\\n",
      "\\midrule\n",
      "0 &      0.3 &       0.9 &    0 &        0 \\\\\n",
      "1 &      0.9 &       0.3 &    0 &        1 \\\\\n",
      "2 &      0.6 &       0.4 &    0 &        2 \\\\\n",
      "3 &      0.2 &       0.1 &    0 &        3 \\\\\n",
      "4 &      0.7 &       0.8 &    0 &        4 \\\\\n",
      "\\bottomrule\n",
      "\\end{tabular}\n",
      "\n",
      "[[ 1.  1.  0.  0.  0.]\n",
      " [ 1.  0.  1.  0.  1.]\n",
      " [ 1.  0.  0.  0.  2.]\n",
      " [ 1.  1.  0.  0.  3.]\n",
      " [ 1.  0.  1.  0.  4.]\n",
      " [ 1.  0.  0.  0.  5.]\n",
      " [ 1.  0.  0.  0.  6.]\n",
      " [ 1.  1.  0.  0.  7.]\n",
      " [ 1.  0.  1.  0.  8.]\n",
      " [ 1.  1.  0.  0.  9.]]\n"
     ]
    }
   ],
   "source": [
    "n_latent_features = 2\n",
    "\n",
    "user_ratings = user_ratings_df.values\n",
    "latent_user_preferences = np.random.random((user_ratings.shape[0], n_latent_features))\n",
    "latent_item_features = np.random.random((user_ratings.shape[1],n_latent_features))\n",
    "\n",
    "user_features = user_features_df.values\n",
    "item_features = item_features_df.values\n",
    "\n",
    "print (item_features_df.to_latex())\n",
    "\n",
    "\n",
    "user_features = np.concatenate([np.ones(shape = (user_features.shape[0],1)), user_features], axis = 1)\n",
    "item_features = np.concatenate([np.ones(shape = (item_features.shape[0],1)), item_features], axis = 1)\n",
    "\n",
    "\n",
    "\n",
    "user_features_weights = np.random.random((user_ratings.shape[0], user_features.shape[1] ))\n",
    "item_features_weights = np.random.random((user_ratings.shape[1],item_features.shape[1] ))\n",
    "\n",
    "\n",
    "\n",
    "print (user_features)"
   ]
  },
  {
   "cell_type": "code",
   "execution_count": 35,
   "metadata": {
    "slideshow": {
     "slide_type": "slide"
    }
   },
   "outputs": [],
   "source": [
    "def predict_rating(user_id,item_id):\n",
    "    \"\"\" Predict a rating given a user_id and an item_id.\n",
    "    \"\"\"\n",
    "    user_preference = latent_user_preferences[user_id]\n",
    "    item_preference = latent_item_features[item_id]\n",
    "    \n",
    "    user_score = user_features_weights[user_id].dot(user_features[user_id])\n",
    "    item_score = item_features_weights[item_id].dot(item_features[item_id])\n",
    "    #print user_preference.dot(item_preference), user_score, item_score\n",
    "    return user_preference.dot(item_preference) + user_score + item_score\n",
    "\n",
    "def train(user_id, item_id, rating,alpha = 0.001, \n",
    "                                   latent_feature_weight_decay = 0.1, \n",
    "                                   user_weight_decay = 0.01,\n",
    "                                   item_weight_decay = 0.0001):\n",
    "    \n",
    "    #print item_id\n",
    "    prediction_rating = predict_rating(user_id, item_id)\n",
    "    err =  ( prediction_rating - rating );\n",
    "    #print err\n",
    "    user_pref_values = latent_user_preferences[user_id][:]\n",
    "    latent_user_preferences[user_id] -= alpha * err *  ( latent_item_features[item_id] + latent_feature_weight_decay*latent_user_preferences[user_id])\n",
    "    latent_item_features[item_id] -= alpha * err * ( user_pref_values + latent_feature_weight_decay*latent_item_features[item_id])\n",
    "    \n",
    "    user_features_weights[user_id] -=alpha * err *(  user_features[user_id] + user_weight_decay* user_features_weights[user_id])\n",
    "    item_features_weights[item_id] -=alpha * err * ( item_features_weights[item_id] + item_weight_decay* item_features_weights[item_id])\n",
    "    \n",
    "    \n",
    "    return err\n",
    "    \n",
    "\n",
    "\n",
    "def sgd(iterations = 30000):\n",
    "    \"\"\" Iterate over all users and all items and train for \n",
    "        a certain number of iterations\n",
    "    \"\"\"\n",
    "    for iteration in range(0,iterations):\n",
    "        error = []\n",
    "        for user_id in range(0,latent_user_preferences.shape[0]):\n",
    "            for item_id in range(0,latent_item_features.shape[0]):\n",
    "                rating = user_ratings[user_id][item_id]\n",
    "                if(not np.isnan(rating)):\n",
    "                    err = train(user_id,item_id,rating)\n",
    "                    error.append(err)\n",
    "    mse = (np.array(error) ** 2).mean()          \n",
    "    print (mse)\n",
    "                    \n",
    "                    \n",
    "    \n",
    "                    \n",
    "                    \n",
    "    \n"
   ]
  },
  {
   "cell_type": "code",
   "execution_count": 36,
   "metadata": {
    "slideshow": {
     "slide_type": "fragment"
    }
   },
   "outputs": [
    {
     "name": "stdout",
     "output_type": "stream",
     "text": [
      "0.2797756832\n",
      "0.279035020935\n",
      "0.278536034099\n",
      "0.278181076358\n",
      "0.27791980304\n",
      "0.277723613096\n",
      "0.277575079996\n",
      "0.277463023784\n",
      "0.277379995762\n",
      "0.277320900812\n"
     ]
    }
   ],
   "source": [
    "for _ in range(0,10): \n",
    "    sgd()"
   ]
  },
  {
   "cell_type": "code",
   "execution_count": 37,
   "metadata": {
    "slideshow": {
     "slide_type": "slide"
    }
   },
   "outputs": [
    {
     "name": "stdout",
     "output_type": "stream",
     "text": [
      "[[-0.943 -1.421  0.926  0.77   0.8  ]\n",
      " [ 2.024  0.568  2.394  0.187  1.833]\n",
      " [ 0.917  0.056  0.102  0.878  0.523]\n",
      " [ 0.462  0.802  0.024  0.988  0.651]\n",
      " [ 0.594  0.043  0.271  0.365 -0.271]\n",
      " [ 0.348  0.991  0.467  0.395  1.36 ]\n",
      " [ 0.588  0.237  0.445  0.887 -0.303]\n",
      " [-0.03   0.716  0.703  0.432  0.096]\n",
      " [ 0.383  0.64   0.707  0.714  0.626]\n",
      " [ 0.298  0.644  0.805  0.014 -0.308]]\n",
      "[[  1.308e+00   1.087e+00   1.117e+00   1.221e-01   2.076e+00]\n",
      " [  2.711e-04   6.156e-05   9.362e-04   4.220e-04   4.737e-04]\n",
      " [  3.275e+00   2.616e+00   1.146e+00   9.049e-01   1.198e+00]\n",
      " [  1.060e+00   4.767e-01   6.682e-01   3.724e-01   3.573e-01]\n",
      " [  2.986e+00   2.449e-01   8.423e-01   4.871e+00   1.546e+00]]\n"
     ]
    }
   ],
   "source": [
    "predictions = np.zeros(shape = (latent_user_preferences.shape[0], latent_item_features.shape[0]) )\n",
    "#print latent_user_preferences\n",
    "print (user_features_weights)\n",
    "print (item_features_weights)\n",
    "for user_id in range(0,latent_user_preferences.shape[0]):\n",
    "            for item_id in range(0,latent_item_features.shape[0]):\n",
    "                predictions[user_id,item_id] =  predict_rating(user_id,item_id)\n",
    "\n",
    "  "
   ]
  },
  {
   "cell_type": "code",
   "execution_count": 40,
   "metadata": {
    "slideshow": {
     "slide_type": "slide"
    }
   },
   "outputs": [
    {
     "data": {
      "text/html": [
       "<div>\n",
       "<style scoped>\n",
       "    .dataframe tbody tr th:only-of-type {\n",
       "        vertical-align: middle;\n",
       "    }\n",
       "\n",
       "    .dataframe tbody tr th {\n",
       "        vertical-align: top;\n",
       "    }\n",
       "\n",
       "    .dataframe thead th {\n",
       "        text-align: right;\n",
       "    }\n",
       "</style>\n",
       "<table border=\"1\" class=\"dataframe\">\n",
       "  <thead>\n",
       "    <tr style=\"text-align: right;\">\n",
       "      <th></th>\n",
       "      <th>The Call of Cthulhu</th>\n",
       "      <th>Frankenstein</th>\n",
       "      <th>Dracula</th>\n",
       "      <th>Neuromancer</th>\n",
       "      <th>Space Odyssey</th>\n",
       "    </tr>\n",
       "  </thead>\n",
       "  <tbody>\n",
       "    <tr>\n",
       "      <th>0</th>\n",
       "      <td>(8.000|7.987)</td>\n",
       "      <td>(2.000|2.047)</td>\n",
       "      <td>(nan|-25.528)</td>\n",
       "      <td>(5.000|4.974)</td>\n",
       "      <td>(4.000|3.994)</td>\n",
       "    </tr>\n",
       "    <tr>\n",
       "      <th>1</th>\n",
       "      <td>(3.000|2.897)</td>\n",
       "      <td>(2.000|2.550)</td>\n",
       "      <td>(nan|75.622)</td>\n",
       "      <td>(7.000|6.627)</td>\n",
       "      <td>(7.000|6.928)</td>\n",
       "    </tr>\n",
       "    <tr>\n",
       "      <th>2</th>\n",
       "      <td>(9.000|9.037)</td>\n",
       "      <td>(nan|4.391)</td>\n",
       "      <td>(7.000|7.002)</td>\n",
       "      <td>(8.000|7.959)</td>\n",
       "      <td>(5.000|5.000)</td>\n",
       "    </tr>\n",
       "    <tr>\n",
       "      <th>3</th>\n",
       "      <td>(nan|8.968)</td>\n",
       "      <td>(nan|4.936)</td>\n",
       "      <td>(7.000|7.000)</td>\n",
       "      <td>(8.000|8.000)</td>\n",
       "      <td>(9.000|8.999)</td>\n",
       "    </tr>\n",
       "    <tr>\n",
       "      <th>4</th>\n",
       "      <td>(nan|3.882)</td>\n",
       "      <td>(1.000|0.572)</td>\n",
       "      <td>(8.000|7.990)</td>\n",
       "      <td>(3.000|3.369)</td>\n",
       "      <td>(7.000|7.052)</td>\n",
       "    </tr>\n",
       "    <tr>\n",
       "      <th>5</th>\n",
       "      <td>(2.000|2.001)</td>\n",
       "      <td>(3.000|2.996)</td>\n",
       "      <td>(5.000|5.000)</td>\n",
       "      <td>(nan|2.172)</td>\n",
       "      <td>(nan|34.115)</td>\n",
       "    </tr>\n",
       "    <tr>\n",
       "      <th>6</th>\n",
       "      <td>(4.000|4.319)</td>\n",
       "      <td>(2.000|0.431)</td>\n",
       "      <td>(nan|-4.528)</td>\n",
       "      <td>(2.000|3.002)</td>\n",
       "      <td>(7.000|7.198)</td>\n",
       "    </tr>\n",
       "    <tr>\n",
       "      <th>7</th>\n",
       "      <td>(7.000|6.750)</td>\n",
       "      <td>(1.000|2.905)</td>\n",
       "      <td>(2.000|2.082)</td>\n",
       "      <td>(7.000|5.667)</td>\n",
       "      <td>(9.000|8.769)</td>\n",
       "    </tr>\n",
       "    <tr>\n",
       "      <th>8</th>\n",
       "      <td>(3.000|3.103)</td>\n",
       "      <td>(3.000|2.521)</td>\n",
       "      <td>(nan|84.979)</td>\n",
       "      <td>(7.000|7.289)</td>\n",
       "      <td>(3.000|3.059)</td>\n",
       "    </tr>\n",
       "    <tr>\n",
       "      <th>9</th>\n",
       "      <td>(4.000|3.903)</td>\n",
       "      <td>(nan|-0.144)</td>\n",
       "      <td>(5.000|4.987)</td>\n",
       "      <td>(3.000|3.098)</td>\n",
       "      <td>(3.000|2.997)</td>\n",
       "    </tr>\n",
       "  </tbody>\n",
       "</table>\n",
       "</div>"
      ],
      "text/plain": [
       "  The Call of Cthulhu   Frankenstein        Dracula    Neuromancer  \\\n",
       "0       (8.000|7.987)  (2.000|2.047)  (nan|-25.528)  (5.000|4.974)   \n",
       "1       (3.000|2.897)  (2.000|2.550)   (nan|75.622)  (7.000|6.627)   \n",
       "2       (9.000|9.037)    (nan|4.391)  (7.000|7.002)  (8.000|7.959)   \n",
       "3         (nan|8.968)    (nan|4.936)  (7.000|7.000)  (8.000|8.000)   \n",
       "4         (nan|3.882)  (1.000|0.572)  (8.000|7.990)  (3.000|3.369)   \n",
       "5       (2.000|2.001)  (3.000|2.996)  (5.000|5.000)    (nan|2.172)   \n",
       "6       (4.000|4.319)  (2.000|0.431)   (nan|-4.528)  (2.000|3.002)   \n",
       "7       (7.000|6.750)  (1.000|2.905)  (2.000|2.082)  (7.000|5.667)   \n",
       "8       (3.000|3.103)  (3.000|2.521)   (nan|84.979)  (7.000|7.289)   \n",
       "9       (4.000|3.903)   (nan|-0.144)  (5.000|4.987)  (3.000|3.098)   \n",
       "\n",
       "   Space Odyssey  \n",
       "0  (4.000|3.994)  \n",
       "1  (7.000|6.928)  \n",
       "2  (5.000|5.000)  \n",
       "3  (9.000|8.999)  \n",
       "4  (7.000|7.052)  \n",
       "5   (nan|34.115)  \n",
       "6  (7.000|7.198)  \n",
       "7  (9.000|8.769)  \n",
       "8  (3.000|3.059)  \n",
       "9  (3.000|2.997)  "
      ]
     },
     "execution_count": 40,
     "metadata": {},
     "output_type": "execute_result"
    }
   ],
   "source": [
    "data = pd.read_csv(\"user_ratings.csv\")\n",
    "values = [zip(user_ratings[i], predictions[i]) for i in range(0,predictions.shape[0])]\n",
    "comparison_data = pd.DataFrame(values)\n",
    "comparison_data.columns = data.columns\n",
    "comparison_data.applymap(lambda xy: \"(%2.3f|%2.3f)\"%xy)"
   ]
  },
  {
   "cell_type": "code",
   "execution_count": 41,
   "metadata": {
    "slideshow": {
     "slide_type": "fragment"
    }
   },
   "outputs": [
    {
     "data": {
      "text/html": [
       "<div>\n",
       "<style scoped>\n",
       "    .dataframe tbody tr th:only-of-type {\n",
       "        vertical-align: middle;\n",
       "    }\n",
       "\n",
       "    .dataframe tbody tr th {\n",
       "        vertical-align: top;\n",
       "    }\n",
       "\n",
       "    .dataframe thead th {\n",
       "        text-align: right;\n",
       "    }\n",
       "</style>\n",
       "<table border=\"1\" class=\"dataframe\">\n",
       "  <thead>\n",
       "    <tr style=\"text-align: right;\">\n",
       "      <th></th>\n",
       "      <th>The Call of Cthulhu</th>\n",
       "      <th>Frankenstein</th>\n",
       "      <th>Dracula</th>\n",
       "      <th>Neuromancer</th>\n",
       "      <th>Space Odyssey</th>\n",
       "    </tr>\n",
       "  </thead>\n",
       "  <tbody>\n",
       "    <tr>\n",
       "      <th>0</th>\n",
       "      <td>(8.0, 7.98675823097)</td>\n",
       "      <td>(2.0, 2.04743717058)</td>\n",
       "      <td>(nan, -25.5276898089)</td>\n",
       "      <td>(5.0, 4.97363905813)</td>\n",
       "      <td>(4.0, 3.99406295366)</td>\n",
       "    </tr>\n",
       "    <tr>\n",
       "      <th>1</th>\n",
       "      <td>(3.0, 2.89725495427)</td>\n",
       "      <td>(2.0, 2.5501991579)</td>\n",
       "      <td>(nan, 75.6215311901)</td>\n",
       "      <td>(7.0, 6.62658043591)</td>\n",
       "      <td>(7.0, 6.9284063685)</td>\n",
       "    </tr>\n",
       "    <tr>\n",
       "      <th>2</th>\n",
       "      <td>(9.0, 9.03712287003)</td>\n",
       "      <td>(nan, 4.39092033642)</td>\n",
       "      <td>(7.0, 7.00223918848)</td>\n",
       "      <td>(8.0, 7.95890513661)</td>\n",
       "      <td>(5.0, 5.00032828523)</td>\n",
       "    </tr>\n",
       "    <tr>\n",
       "      <th>3</th>\n",
       "      <td>(nan, 8.96791850076)</td>\n",
       "      <td>(nan, 4.93584674954)</td>\n",
       "      <td>(7.0, 7.0000006414)</td>\n",
       "      <td>(8.0, 7.99957124096)</td>\n",
       "      <td>(9.0, 8.99930895475)</td>\n",
       "    </tr>\n",
       "    <tr>\n",
       "      <th>4</th>\n",
       "      <td>(nan, 3.88192830242)</td>\n",
       "      <td>(1.0, 0.572338108271)</td>\n",
       "      <td>(8.0, 7.98968606008)</td>\n",
       "      <td>(3.0, 3.36882581388)</td>\n",
       "      <td>(7.0, 7.05163686256)</td>\n",
       "    </tr>\n",
       "    <tr>\n",
       "      <th>5</th>\n",
       "      <td>(2.0, 2.00128247535)</td>\n",
       "      <td>(3.0, 2.99558902041)</td>\n",
       "      <td>(5.0, 5.00000600523)</td>\n",
       "      <td>(nan, 2.17236635258)</td>\n",
       "      <td>(nan, 34.1149236006)</td>\n",
       "    </tr>\n",
       "    <tr>\n",
       "      <th>6</th>\n",
       "      <td>(4.0, 4.31924289614)</td>\n",
       "      <td>(2.0, 0.431069241011)</td>\n",
       "      <td>(nan, -4.52828396077)</td>\n",
       "      <td>(2.0, 3.00181258827)</td>\n",
       "      <td>(7.0, 7.19830376194)</td>\n",
       "    </tr>\n",
       "    <tr>\n",
       "      <th>7</th>\n",
       "      <td>(7.0, 6.74959992432)</td>\n",
       "      <td>(1.0, 2.90477097743)</td>\n",
       "      <td>(2.0, 2.0823817796)</td>\n",
       "      <td>(7.0, 5.66690790463)</td>\n",
       "      <td>(9.0, 8.76857021641)</td>\n",
       "    </tr>\n",
       "    <tr>\n",
       "      <th>8</th>\n",
       "      <td>(3.0, 3.10312397028)</td>\n",
       "      <td>(3.0, 2.52141078085)</td>\n",
       "      <td>(nan, 84.9785709291)</td>\n",
       "      <td>(7.0, 7.28931486962)</td>\n",
       "      <td>(3.0, 3.05856997919)</td>\n",
       "    </tr>\n",
       "    <tr>\n",
       "      <th>9</th>\n",
       "      <td>(4.0, 3.90262870684)</td>\n",
       "      <td>(nan, -0.144183585255)</td>\n",
       "      <td>(5.0, 4.98655624175)</td>\n",
       "      <td>(3.0, 3.09762932916)</td>\n",
       "      <td>(3.0, 2.99745369609)</td>\n",
       "    </tr>\n",
       "  </tbody>\n",
       "</table>\n",
       "</div>"
      ],
      "text/plain": [
       "    The Call of Cthulhu            Frankenstein                Dracula  \\\n",
       "0  (8.0, 7.98675823097)    (2.0, 2.04743717058)  (nan, -25.5276898089)   \n",
       "1  (3.0, 2.89725495427)     (2.0, 2.5501991579)   (nan, 75.6215311901)   \n",
       "2  (9.0, 9.03712287003)    (nan, 4.39092033642)   (7.0, 7.00223918848)   \n",
       "3  (nan, 8.96791850076)    (nan, 4.93584674954)    (7.0, 7.0000006414)   \n",
       "4  (nan, 3.88192830242)   (1.0, 0.572338108271)   (8.0, 7.98968606008)   \n",
       "5  (2.0, 2.00128247535)    (3.0, 2.99558902041)   (5.0, 5.00000600523)   \n",
       "6  (4.0, 4.31924289614)   (2.0, 0.431069241011)  (nan, -4.52828396077)   \n",
       "7  (7.0, 6.74959992432)    (1.0, 2.90477097743)    (2.0, 2.0823817796)   \n",
       "8  (3.0, 3.10312397028)    (3.0, 2.52141078085)   (nan, 84.9785709291)   \n",
       "9  (4.0, 3.90262870684)  (nan, -0.144183585255)   (5.0, 4.98655624175)   \n",
       "\n",
       "            Neuromancer         Space Odyssey  \n",
       "0  (5.0, 4.97363905813)  (4.0, 3.99406295366)  \n",
       "1  (7.0, 6.62658043591)   (7.0, 6.9284063685)  \n",
       "2  (8.0, 7.95890513661)  (5.0, 5.00032828523)  \n",
       "3  (8.0, 7.99957124096)  (9.0, 8.99930895475)  \n",
       "4  (3.0, 3.36882581388)  (7.0, 7.05163686256)  \n",
       "5  (nan, 2.17236635258)  (nan, 34.1149236006)  \n",
       "6  (2.0, 3.00181258827)  (7.0, 7.19830376194)  \n",
       "7  (7.0, 5.66690790463)  (9.0, 8.76857021641)  \n",
       "8  (7.0, 7.28931486962)  (3.0, 3.05856997919)  \n",
       "9  (3.0, 3.09762932916)  (3.0, 2.99745369609)  "
      ]
     },
     "execution_count": 41,
     "metadata": {},
     "output_type": "execute_result"
    }
   ],
   "source": [
    "comparison_data"
   ]
  },
  {
   "cell_type": "code",
   "execution_count": 42,
   "metadata": {},
   "outputs": [],
   "source": [
    "d = comparison_data.to_latex()\n",
    "text_file = open(\"comparison.txt\", \"w\")\n",
    "text_file.write(d)\n",
    "text_file.close()"
   ]
  },
  {
   "cell_type": "code",
   "execution_count": null,
   "metadata": {},
   "outputs": [],
   "source": []
  },
  {
   "cell_type": "code",
   "execution_count": null,
   "metadata": {},
   "outputs": [],
   "source": []
  },
  {
   "cell_type": "code",
   "execution_count": null,
   "metadata": {},
   "outputs": [],
   "source": []
  },
  {
   "cell_type": "code",
   "execution_count": null,
   "metadata": {},
   "outputs": [],
   "source": []
  }
 ],
 "metadata": {
  "kernelspec": {
   "display_name": "Python 3",
   "language": "python",
   "name": "python3"
  },
  "language_info": {
   "codemirror_mode": {
    "name": "ipython",
    "version": 3
   },
   "file_extension": ".py",
   "mimetype": "text/x-python",
   "name": "python",
   "nbconvert_exporter": "python",
   "pygments_lexer": "ipython3",
   "version": "3.7.0"
  }
 },
 "nbformat": 4,
 "nbformat_minor": 1
}
