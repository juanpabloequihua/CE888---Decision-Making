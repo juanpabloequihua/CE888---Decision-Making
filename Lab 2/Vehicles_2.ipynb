{
 "cells": [
  {
   "cell_type": "code",
   "execution_count": 1,
   "metadata": {},
   "outputs": [],
   "source": [
    "## Initial start from Vehicles Dataset"
   ]
  },
  {
   "cell_type": "code",
   "execution_count": 8,
   "metadata": {},
   "outputs": [],
   "source": [
    "#df=pd.read_csv('/Users/juanpabloequihualinares/Desktop/MSc Data Science/CE888 - Decision Making/Labs/Lab 2/vehicles.csv')\n"
   ]
  },
  {
   "cell_type": "code",
   "execution_count": 18,
   "metadata": {},
   "outputs": [
    {
     "name": "stdout",
     "output_type": "stream",
     "text": [
      "Index(['Current fleet', 'New Fleet'], dtype='object')\n",
      "Mean: 30.481013\n",
      "Median: 32.000000\n",
      "Var: 36.831918\n",
      "std: 6.068931\n",
      "MAD: 4.000000\n"
     ]
    }
   ],
   "source": [
    "import matplotlib\n",
    "matplotlib.use('Agg')\n",
    "import pandas as pd\n",
    "import matplotlib.pyplot as plt\n",
    "import seaborn as sns\n",
    "import numpy as np\n",
    "\n",
    "\n",
    "def mad(arr):\n",
    "    \"\"\" Median Absolute Deviation: a \"Robust\" version of standard deviation.\n",
    "        Indices variabililty of the sample.\n",
    "        https://en.wikipedia.org/wiki/Median_absolute_deviation \n",
    "        http://stackoverflow.com/questions/8930370/where-can-i-find-mad-mean-absolute-deviation-in-scipy\n",
    "    \"\"\"\n",
    "    arr = np.ma.array(arr).compressed() # should be faster to not use masked arrays.\n",
    "    med = np.median(arr)\n",
    "    return np.median(np.abs(arr - med))\n",
    "\n",
    "\n",
    "if __name__ == \"__main__\":\n",
    "    df = pd.read_csv('./vehicles.csv')\n",
    "    df=df[np.invert(np.isnan(df['New Fleet']))]\n",
    "    print((df.columns))\n",
    "    sns_plot = sns.lmplot(df.columns[0], df.columns[1], data=df, fit_reg=False)\n",
    "\n",
    "    sns_plot.axes[0,0].set_ylim(0,)\n",
    "    sns_plot.axes[0,0].set_xlim(0,)\n",
    "\n",
    "    sns_plot.savefig(\"scaterplot.png\",bbox_inches='tight')\n",
    "    sns_plot.savefig(\"scaterplot.pdf\",bbox_inches='tight')\n",
    "\n",
    "    data = df.values.T[1]\n",
    "    \n",
    "    print(((\"Mean: %f\")%(np.mean(data))))\n",
    "    print(((\"Median: %f\")%(np.median(data))))\n",
    "    print(((\"Var: %f\")%(np.var(data))))\n",
    "    print(((\"std: %f\")%(np.std(data))))\n",
    "    print(((\"MAD: %f\")%(mad(data))))\n",
    "\n",
    "    plt.clf()\n",
    "    sns_plot2 = sns.distplot(data, bins=20, kde=False, rug=True).get_figure()\n",
    "\n",
    "    axes = plt.gca()\n",
    "    axes.set_xlabel('Current fleet') \n",
    "    axes.set_ylabel('New fleet')\n",
    "\n",
    "    sns_plot2.savefig(\"histogram.png\",bbox_inches='tight')\n",
    "    sns_plot2.savefig(\"histogram.pdf\",bbox_inches='tight')\n"
   ]
  },
  {
   "cell_type": "code",
   "execution_count": 19,
   "metadata": {},
   "outputs": [
    {
     "data": {
      "text/plain": [
       "'Current fleet'"
      ]
     },
     "execution_count": 19,
     "metadata": {},
     "output_type": "execute_result"
    }
   ],
   "source": [
    "df.columns[0]"
   ]
  },
  {
   "cell_type": "code",
   "execution_count": 20,
   "metadata": {},
   "outputs": [
    {
     "data": {
      "text/plain": [
       "0     24.0\n",
       "1     27.0\n",
       "2     27.0\n",
       "3     25.0\n",
       "4     31.0\n",
       "5     35.0\n",
       "6     24.0\n",
       "7     19.0\n",
       "8     28.0\n",
       "9     23.0\n",
       "10    27.0\n",
       "11    20.0\n",
       "12    22.0\n",
       "13    18.0\n",
       "14    20.0\n",
       "15    31.0\n",
       "16    32.0\n",
       "17    31.0\n",
       "18    32.0\n",
       "19    24.0\n",
       "20    26.0\n",
       "21    29.0\n",
       "22    24.0\n",
       "23    24.0\n",
       "24    33.0\n",
       "25    33.0\n",
       "26    32.0\n",
       "27    28.0\n",
       "28    19.0\n",
       "29    32.0\n",
       "      ... \n",
       "49    37.0\n",
       "50    32.0\n",
       "51    47.0\n",
       "52    41.0\n",
       "53    45.0\n",
       "54    34.0\n",
       "55    33.0\n",
       "56    24.0\n",
       "57    32.0\n",
       "58    39.0\n",
       "59    35.0\n",
       "60    32.0\n",
       "61    37.0\n",
       "62    38.0\n",
       "63    34.0\n",
       "64    34.0\n",
       "65    32.0\n",
       "66    33.0\n",
       "67    32.0\n",
       "68    25.0\n",
       "69    24.0\n",
       "70    37.0\n",
       "71    31.0\n",
       "72    36.0\n",
       "73    36.0\n",
       "74    34.0\n",
       "75    38.0\n",
       "76    32.0\n",
       "77    38.0\n",
       "78    32.0\n",
       "Name: New Fleet, Length: 79, dtype: float64"
      ]
     },
     "execution_count": 20,
     "metadata": {},
     "output_type": "execute_result"
    }
   ],
   "source": [
    "df['New Fleet']"
   ]
  },
  {
   "cell_type": "code",
   "execution_count": null,
   "metadata": {},
   "outputs": [],
   "source": []
  },
  {
   "cell_type": "code",
   "execution_count": null,
   "metadata": {},
   "outputs": [],
   "source": []
  }
 ],
 "metadata": {
  "kernelspec": {
   "display_name": "Python 3",
   "language": "python",
   "name": "python3"
  },
  "language_info": {
   "codemirror_mode": {
    "name": "ipython",
    "version": 3
   },
   "file_extension": ".py",
   "mimetype": "text/x-python",
   "name": "python",
   "nbconvert_exporter": "python",
   "pygments_lexer": "ipython3",
   "version": "3.7.0"
  }
 },
 "nbformat": 4,
 "nbformat_minor": 2
}
