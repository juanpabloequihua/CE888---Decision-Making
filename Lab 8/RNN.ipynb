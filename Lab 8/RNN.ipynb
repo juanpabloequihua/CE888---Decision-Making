{
 "cells": [
  {
   "cell_type": "code",
   "execution_count": 1,
   "metadata": {},
   "outputs": [
    {
     "name": "stderr",
     "output_type": "stream",
     "text": [
      "Using TensorFlow backend.\n"
     ]
    },
    {
     "data": {
      "text/plain": [
       "'2.0.7'"
      ]
     },
     "execution_count": 1,
     "metadata": {},
     "output_type": "execute_result"
    }
   ],
   "source": [
    "import keras\n",
    "keras.__version__"
   ]
  },
  {
   "cell_type": "code",
   "execution_count": 2,
   "metadata": {},
   "outputs": [
    {
     "name": "stdout",
     "output_type": "stream",
     "text": [
      "Found 9 unique tokens.\n"
     ]
    }
   ],
   "source": [
    "from keras.preprocessing.text import Tokenizer\n",
    "samples = ['The cat sat on the mat.', 'The dog ate my homework.']\n",
    "\n",
    "# We create a tokenizer, configured to only take into account the top-1000 most common words\n",
    "tokenizer = Tokenizer(num_words=1000)\n",
    "\n",
    "# This builds the word index\n",
    "tokenizer.fit_on_texts(samples)\n",
    "\n",
    "# This turns strings into lists of integer indices.\n",
    "sequences = tokenizer.texts_to_sequences(samples)\n",
    "\n",
    "# You could also directly get the one-hot binary representations.\n",
    "# Note that other vectorization modes than one-hot encoding are supported!\n",
    "one_hot_results = tokenizer.texts_to_matrix(samples, mode='binary')\n",
    "\n",
    "# This is how you can recover the word index that was computed\n",
    "word_index = tokenizer.word_index\n",
    "print('Found %s unique tokens.' % len(word_index))"
   ]
  },
  {
   "cell_type": "code",
   "execution_count": 3,
   "metadata": {},
   "outputs": [
    {
     "data": {
      "text/plain": [
       "array([[0., 1., 1., ..., 0., 0., 0.],\n",
       "       [0., 1., 0., ..., 0., 0., 0.]])"
      ]
     },
     "execution_count": 3,
     "metadata": {},
     "output_type": "execute_result"
    }
   ],
   "source": [
    "one_hot_results"
   ]
  },
  {
   "cell_type": "markdown",
   "metadata": {},
   "source": [
    "Using word-embeddings "
   ]
  },
  {
   "cell_type": "code",
   "execution_count": 4,
   "metadata": {},
   "outputs": [
    {
     "name": "stdout",
     "output_type": "stream",
     "text": [
      "Loading data...\n",
      "Downloading data from https://s3.amazonaws.com/text-datasets/imdb.npz\n",
      "17367040/17464789 [============================>.] - ETA: 0s25000 train sequences\n",
      "25000 test sequences\n",
      "Pad sequences (samples x time)\n",
      "input_train shape: (25000, 500)\n",
      "input_test shape: (25000, 500)\n"
     ]
    }
   ],
   "source": [
    "from keras.datasets import imdb\n",
    "from keras.preprocessing import sequence\n",
    "\n",
    "max_features = 10000\n",
    "maxlen = 500\n",
    "batch_size = 32\n",
    "print('Loading data...')\n",
    "(input_train, y_train), (input_test, y_test) = imdb.load_data(num_words=max_features)\n",
    "print(len(input_train), 'train sequences')\n",
    "print(len(input_test), 'test sequences')\n",
    "print('Pad sequences (samples x time)')\n",
    "input_train = sequence.pad_sequences(input_train, maxlen=maxlen)\n",
    "input_test = sequence.pad_sequences(input_test, maxlen=maxlen)\n",
    "print('input_train shape:', input_train.shape)\n",
    "print('input_test shape:', input_test.shape)"
   ]
  },
  {
   "cell_type": "markdown",
   "metadata": {},
   "source": [
    "### Training the model with Embedding and SimpleRNN layers"
   ]
  },
  {
   "cell_type": "code",
   "execution_count": 7,
   "metadata": {},
   "outputs": [
    {
     "name": "stdout",
     "output_type": "stream",
     "text": [
      "WARNING:tensorflow:From /Users/juanpabloequihualinares/anaconda3/lib/python3.7/site-packages/tensorflow/python/framework/op_def_library.py:263: colocate_with (from tensorflow.python.framework.ops) is deprecated and will be removed in a future version.\n",
      "Instructions for updating:\n",
      "Colocations handled automatically by placer.\n",
      "WARNING:tensorflow:From /Users/juanpabloequihualinares/anaconda3/lib/python3.7/site-packages/keras/backend/tensorflow_backend.py:1188: calling reduce_sum_v1 (from tensorflow.python.ops.math_ops) with keep_dims is deprecated and will be removed in a future version.\n",
      "Instructions for updating:\n",
      "keep_dims is deprecated, use keepdims instead\n",
      "_________________________________________________________________\n",
      "Layer (type)                 Output Shape              Param #   \n",
      "=================================================================\n",
      "embedding_1 (Embedding)      (None, None, 32)          320000    \n",
      "_________________________________________________________________\n",
      "simple_rnn_1 (SimpleRNN)     (None, 32)                2080      \n",
      "_________________________________________________________________\n",
      "dense_1 (Dense)              (None, 1)                 33        \n",
      "=================================================================\n",
      "Total params: 322,113\n",
      "Trainable params: 322,113\n",
      "Non-trainable params: 0\n",
      "_________________________________________________________________\n",
      "WARNING:tensorflow:From /Users/juanpabloequihualinares/anaconda3/lib/python3.7/site-packages/tensorflow/python/ops/math_ops.py:3066: to_int32 (from tensorflow.python.ops.math_ops) is deprecated and will be removed in a future version.\n",
      "Instructions for updating:\n",
      "Use tf.cast instead.\n",
      "Train on 20000 samples, validate on 5000 samples\n",
      "Epoch 1/15\n",
      "20000/20000 [==============================] - 25s - loss: 0.6485 - acc: 0.6160 - val_loss: 0.5959 - val_acc: 0.6982\n",
      "Epoch 2/15\n",
      "20000/20000 [==============================] - 24s - loss: 0.4330 - acc: 0.8149 - val_loss: 0.4342 - val_acc: 0.8064\n",
      "Epoch 3/15\n",
      "20000/20000 [==============================] - 24s - loss: 0.3043 - acc: 0.8783 - val_loss: 0.4662 - val_acc: 0.7860\n",
      "Epoch 4/15\n",
      "20000/20000 [==============================] - 25s - loss: 0.2196 - acc: 0.9163 - val_loss: 0.3874 - val_acc: 0.8438\n",
      "Epoch 5/15\n",
      "20000/20000 [==============================] - 24s - loss: 0.1508 - acc: 0.9455 - val_loss: 0.7456 - val_acc: 0.7374\n",
      "Epoch 6/15\n",
      "20000/20000 [==============================] - 25s - loss: 0.0982 - acc: 0.9673 - val_loss: 0.6062 - val_acc: 0.7744\n",
      "Epoch 7/15\n",
      "20000/20000 [==============================] - 25s - loss: 0.0584 - acc: 0.9823 - val_loss: 0.5130 - val_acc: 0.8322\n",
      "Epoch 8/15\n",
      "20000/20000 [==============================] - 24s - loss: 0.0366 - acc: 0.9899 - val_loss: 0.5993 - val_acc: 0.8094\n",
      "Epoch 9/15\n",
      "20000/20000 [==============================] - 25s - loss: 0.0250 - acc: 0.9928 - val_loss: 0.6214 - val_acc: 0.8218\n",
      "Epoch 10/15\n",
      "20000/20000 [==============================] - 25s - loss: 0.0148 - acc: 0.9963 - val_loss: 0.6930 - val_acc: 0.8164\n",
      "Epoch 11/15\n",
      "20000/20000 [==============================] - 24s - loss: 0.0117 - acc: 0.9967 - val_loss: 0.7081 - val_acc: 0.8272\n",
      "Epoch 12/15\n",
      "20000/20000 [==============================] - 26s - loss: 0.0146 - acc: 0.9959 - val_loss: 0.7803 - val_acc: 0.8008\n",
      "Epoch 13/15\n",
      "20000/20000 [==============================] - 20s - loss: 0.0179 - acc: 0.9949 - val_loss: 0.8347 - val_acc: 0.7984\n",
      "Epoch 14/15\n",
      "20000/20000 [==============================] - 21s - loss: 0.0088 - acc: 0.9974 - val_loss: 0.8770 - val_acc: 0.7866\n",
      "Epoch 15/15\n",
      "20000/20000 [==============================] - 20s - loss: 0.0051 - acc: 0.9988 - val_loss: 0.8398 - val_acc: 0.8134\n"
     ]
    }
   ],
   "source": [
    "from keras.layers import Dense\n",
    "from keras.layers import Embedding, SimpleRNN\n",
    "from keras.models import Sequential\n",
    "\n",
    "model = Sequential()\n",
    "model.add(Embedding(max_features, 32))\n",
    "model.add(SimpleRNN(32))\n",
    "model.add(Dense(1, activation='sigmoid'))\n",
    "model.summary()\n",
    "model.compile(optimizer='rmsprop', loss='binary_crossentropy', metrics=['acc'])\n",
    "history = model.fit(input_train, y_train, \n",
    "                    epochs=15,\n",
    "                    batch_size=128,\n",
    "                    validation_split=0.2)\n"
   ]
  },
  {
   "cell_type": "code",
   "execution_count": 9,
   "metadata": {},
   "outputs": [
    {
     "data": {
      "text/plain": [
       "<module 'matplotlib.pyplot' from '/Users/juanpabloequihualinares/anaconda3/lib/python3.7/site-packages/matplotlib/pyplot.py'>"
      ]
     },
     "execution_count": 9,
     "metadata": {},
     "output_type": "execute_result"
    },
    {
     "data": {
      "image/png": "[encoded data removed]",
      "text/plain": [
       "<Figure size 432x288 with 1 Axes>"
      ]
     },
     "metadata": {
      "needs_background": "light"
     },
     "output_type": "display_data"
    },
    {
     "data": {
      "image/png": "[encoded data removed]",
      "text/plain": [
       "<Figure size 432x288 with 1 Axes>"
      ]
     },
     "metadata": {
      "needs_background": "light"
     },
     "output_type": "display_data"
    }
   ],
   "source": [
    "import matplotlib.pyplot as plt\n",
    "\n",
    "acc = history.history['acc']\n",
    "val_acc = history.history['val_acc']\n",
    "loss = history.history['loss']\n",
    "val_loss = history.history['val_loss']\n",
    "\n",
    "epochs = range(1, len(acc) + 1)\n",
    "\n",
    "plt.plot(epochs, acc, 'bo', label='Training acc')\n",
    "plt.plot(epochs, val_acc, 'b', label='Validation acc')\n",
    "plt.title('Training and validation accuracy')\n",
    "plt.legend()\n",
    "\n",
    "plt.figure()\n",
    "\n",
    "plt.plot(epochs, loss, 'bo', label='Training loss')\n",
    "plt.plot(epochs, val_loss, 'b', label='Validation loss')\n",
    "plt.title('Training and validation loss')\n",
    "plt.legend()\n",
    "\n",
    "plt"
   ]
  },
  {
   "cell_type": "markdown",
   "metadata": {},
   "source": [
    "### Training the model with Embedding and SimpleRNN layers"
   ]
  },
  {
   "cell_type": "code",
   "execution_count": 10,
   "metadata": {},
   "outputs": [
    {
     "name": "stdout",
     "output_type": "stream",
     "text": [
      "Train on 20000 samples, validate on 5000 samples\n",
      "Epoch 1/15\n",
      "20000/20000 [==============================] - 130s - loss: 0.4995 - acc: 0.7659 - val_loss: 0.3266 - val_acc: 0.8714\n",
      "Epoch 2/15\n",
      "20000/20000 [==============================] - 126s - loss: 0.2894 - acc: 0.8898 - val_loss: 0.3027 - val_acc: 0.8724\n",
      "Epoch 3/15\n",
      "20000/20000 [==============================] - 127s - loss: 0.2263 - acc: 0.9147 - val_loss: 0.2994 - val_acc: 0.8794\n",
      "Epoch 4/15\n",
      "20000/20000 [==============================] - 127s - loss: 0.1958 - acc: 0.9265 - val_loss: 0.3106 - val_acc: 0.8904\n",
      "Epoch 5/15\n",
      "20000/20000 [==============================] - 128s - loss: 0.1706 - acc: 0.9383 - val_loss: 0.3400 - val_acc: 0.8512\n",
      "Epoch 6/15\n",
      "20000/20000 [==============================] - 130s - loss: 0.1514 - acc: 0.9461 - val_loss: 0.3004 - val_acc: 0.8892\n",
      "Epoch 7/15\n",
      "20000/20000 [==============================] - 127s - loss: 0.1369 - acc: 0.9512 - val_loss: 0.3131 - val_acc: 0.8826\n",
      "Epoch 8/15\n",
      "20000/20000 [==============================] - 129s - loss: 0.1233 - acc: 0.9569 - val_loss: 0.3124 - val_acc: 0.8858\n",
      "Epoch 9/15\n",
      "20000/20000 [==============================] - 127s - loss: 0.1119 - acc: 0.9603 - val_loss: 0.3800 - val_acc: 0.8486\n",
      "Epoch 10/15\n",
      "20000/20000 [==============================] - 123s - loss: 0.1052 - acc: 0.9627 - val_loss: 0.4113 - val_acc: 0.8786\n",
      "Epoch 11/15\n",
      "20000/20000 [==============================] - 126s - loss: 0.0942 - acc: 0.9677 - val_loss: 0.4396 - val_acc: 0.8788\n",
      "Epoch 12/15\n",
      "20000/20000 [==============================] - 107s - loss: 0.0924 - acc: 0.9680 - val_loss: 0.4995 - val_acc: 0.8300\n",
      "Epoch 13/15\n",
      "20000/20000 [==============================] - 100s - loss: 0.0829 - acc: 0.9700 - val_loss: 0.4386 - val_acc: 0.8800\n",
      "Epoch 14/15\n",
      "20000/20000 [==============================] - 100s - loss: 0.0758 - acc: 0.9738 - val_loss: 0.5634 - val_acc: 0.8550\n",
      "Epoch 15/15\n",
      "20000/20000 [==============================] - 100s - loss: 0.0752 - acc: 0.9763 - val_loss: 0.4614 - val_acc: 0.8772\n"
     ]
    }
   ],
   "source": [
    "from keras.layers import LSTM\n",
    "\n",
    "model = Sequential()\n",
    "model.add(Embedding(max_features, 32))\n",
    "model.add(LSTM(32))\n",
    "model.add(Dense(1, activation='sigmoid'))\n",
    "model.compile(optimizer='rmsprop',\n",
    "loss='binary_crossentropy',\n",
    "metrics=['acc'])\n",
    "history = model.fit(input_train, y_train,\n",
    "                    epochs=15,\n",
    "                    batch_size=128,\n",
    "                    validation_split=0.2)"
   ]
  },
  {
   "cell_type": "code",
   "execution_count": 11,
   "metadata": {},
   "outputs": [
    {
     "data": {
      "image/png": "[encoded data removed]",
      "text/plain": [
       "<Figure size 432x288 with 1 Axes>"
      ]
     },
     "metadata": {
      "needs_background": "light"
     },
     "output_type": "display_data"
    },
    {
     "data": {
      "image/png": "[encoded data removed]",
      "text/plain": [
       "<Figure size 432x288 with 1 Axes>"
      ]
     },
     "metadata": {
      "needs_background": "light"
     },
     "output_type": "display_data"
    }
   ],
   "source": [
    "import matplotlib.pyplot as plt\n",
    "\n",
    "acc = history.history['acc']\n",
    "val_acc = history.history['val_acc']\n",
    "loss = history.history['loss']\n",
    "val_loss = history.history['val_loss']\n",
    "\n",
    "epochs = range(1, len(acc) + 1)\n",
    "\n",
    "plt.plot(epochs, acc, 'bo', label='Training acc')\n",
    "plt.plot(epochs, val_acc, 'b', label='Validation acc')\n",
    "plt.title('Training and validation accuracy')\n",
    "plt.legend()\n",
    "\n",
    "plt.figure()\n",
    "\n",
    "plt.plot(epochs, loss, 'bo', label='Training loss')\n",
    "plt.plot(epochs, val_loss, 'b', label='Validation loss')\n",
    "plt.title('Training and validation loss')\n",
    "plt.legend()\n",
    "\n",
    "plt.show()"
   ]
  },
  {
   "cell_type": "code",
   "execution_count": null,
   "metadata": {},
   "outputs": [],
   "source": []
  }
 ],
 "metadata": {
  "kernelspec": {
   "display_name": "Python 3",
   "language": "python",
   "name": "python3"
  },
  "language_info": {
   "codemirror_mode": {
    "name": "ipython",
    "version": 3
   },
   "file_extension": ".py",
   "mimetype": "text/x-python",
   "name": "python",
   "nbconvert_exporter": "python",
   "pygments_lexer": "ipython3",
   "version": "3.7.0"
  }
 },
 "nbformat": 4,
 "nbformat_minor": 2
}
