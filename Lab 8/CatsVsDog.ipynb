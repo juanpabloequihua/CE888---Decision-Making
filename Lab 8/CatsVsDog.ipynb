{
 "cells": [
  {
   "cell_type": "markdown",
   "metadata": {},
   "source": [
    "##### The Dogs vs. Cats dataset that you’ll use isn’t packaged with Keras. It was made available by Kaggle as part of a computer-vision competition in late 2013, back when convnets weren’t mainstream. You can download the original dataset from www.kaggle.com/c/dogs-vs-cats/data (you’ll need to create a Kaggle account if you don’t already have one—don’t worry, the process is painless)."
   ]
  },
  {
   "cell_type": "markdown",
   "metadata": {},
   "source": [
    "Unsurprisingly, the dogs-versus-cats Kaggle competition in 2013 was won by entrants who used convnets. The best entries achieved up to 95% accuracy. In this example, you’ll get fairly close to this accuracy (in the next section), even though you’ll train\n",
    "your models on less than 10% of the data that was available to the competitors. This dataset contains 25,000 images of dogs and cats (12,500 from each class) and is 543 MB (compressed). After downloading and uncompressing it, you’ll create a new dataset containing three subsets: a training set with 1,000 samples of each class, a validation set with 500 samples of each class, and a test set with 500 samples of each class."
   ]
  },
  {
   "cell_type": "code",
   "execution_count": 12,
   "metadata": {},
   "outputs": [],
   "source": [
    "import os, shutil\n",
    "original_dataset_dir = '/Users/juanpabloequihualinares/Desktop/MSc Data Science/CE888 - Decision Making/Labs/Lab 8/dog-cat'"
   ]
  },
  {
   "cell_type": "code",
   "execution_count": 13,
   "metadata": {},
   "outputs": [],
   "source": [
    "base_dir = '/Users/juanpabloequihualinares/Desktop/MSc Data Science/CE888 - Decision Making/Labs/Lab 8/dog-cat/cats_and_dogs_small'\n",
    "os.mkdir(base_dir)\n"
   ]
  },
  {
   "cell_type": "code",
   "execution_count": 14,
   "metadata": {},
   "outputs": [],
   "source": [
    "train_dir = os.path.join(base_dir, 'train')\n",
    "os.mkdir(train_dir)\n",
    "\n",
    "validation_dir = os.path.join(base_dir, 'validation')\n",
    "os.mkdir(validation_dir)\n",
    "\n",
    "test_dir = os.path.join(base_dir, 'test')\n",
    "os.mkdir(test_dir)\n",
    "\n",
    "train_cats_dir = os.path.join(train_dir, 'cats')\n",
    "os.mkdir(train_cats_dir)\n",
    "\n",
    "train_dogs_dir = os.path.join(train_dir, 'dogs')\n",
    "os.mkdir(train_dogs_dir)\n",
    "\n",
    "validation_cats_dir = os.path.join(validation_dir, 'cats')\n",
    "os.mkdir(validation_cats_dir)\n",
    "\n",
    "validation_dogs_dir = os.path.join(validation_dir, 'dogs')\n",
    "os.mkdir(validation_dogs_dir)\n",
    "\n",
    "test_cats_dir = os.path.join(test_dir, 'cats')\n",
    "os.mkdir(test_cats_dir)\n",
    "\n",
    "test_dogs_dir = os.path.join(test_dir, 'dogs')\n",
    "os.mkdir(test_dogs_dir)"
   ]
  },
  {
   "cell_type": "code",
   "execution_count": 15,
   "metadata": {},
   "outputs": [],
   "source": [
    "fnames = ['cat.{}.jpg'.format(i) for i in range(2000)]\n",
    "for fname in fnames:\n",
    "    src = os.path.join(original_dataset_dir, fname)\n",
    "    dst = os.path.join(train_cats_dir, fname)\n",
    "    #print(src,dst)\n",
    "    shutil.copyfile(src, dst)\n",
    "    \n",
    "fnames = ['cat.{}.jpg'.format(i) for i in range(2000, 3000)]\n",
    "for fname in fnames:\n",
    "    src = os.path.join(original_dataset_dir, fname)\n",
    "    dst = os.path.join(validation_cats_dir, fname)\n",
    "    shutil.copyfile(src, dst)\n",
    "\n",
    "fnames = ['cat.{}.jpg'.format(i) for i in range(3000, 4000)]\n",
    "for fname in fnames:\n",
    "    src = os.path.join(original_dataset_dir, fname)\n",
    "    dst = os.path.join(test_cats_dir, fname)\n",
    "    shutil.copyfile(src, dst)\n",
    "    \n",
    "fnames = ['dog.{}.jpg'.format(i) for i in range(2000)]\n",
    "for fname in fnames:\n",
    "    src = os.path.join(original_dataset_dir, fname)\n",
    "    dst = os.path.join(train_dogs_dir, fname)\n",
    "    shutil.copyfile(src, dst)\n",
    "\n",
    "fnames = ['dog.{}.jpg'.format(i) for i in range(2000, 3000)]\n",
    "for fname in fnames:\n",
    "    src = os.path.join(original_dataset_dir, fname)\n",
    "    dst = os.path.join(validation_dogs_dir, fname)\n",
    "    shutil.copyfile(src, dst)\n",
    "\n",
    "fnames = ['dog.{}.jpg'.format(i) for i in range(3000, 4000)]\n",
    "for fname in fnames:\n",
    "    src = os.path.join(original_dataset_dir, fname)\n",
    "    dst = os.path.join(test_dogs_dir, fname)\n",
    "    shutil.copyfile(src, dst)"
   ]
  },
  {
   "cell_type": "code",
   "execution_count": 16,
   "metadata": {},
   "outputs": [
    {
     "name": "stdout",
     "output_type": "stream",
     "text": [
      "total training cat images: 2000\n",
      "total training dog images: 2000\n",
      "total validation cat images: 1000\n",
      "total validation dog images: 1000\n",
      "total test cat images: 1000\n",
      "total test dog images: 1000\n"
     ]
    }
   ],
   "source": [
    "print('total training cat images:', len(os.listdir(train_cats_dir)))\n",
    "print('total training dog images:', len(os.listdir(train_dogs_dir)))\n",
    "print('total validation cat images:', len(os.listdir(validation_cats_dir)))\n",
    "\n",
    "print('total validation dog images:', len(os.listdir(validation_dogs_dir)))\n",
    "print('total test cat images:', len(os.listdir(test_cats_dir)))\n",
    "print('total test dog images:', len(os.listdir(test_dogs_dir)))\n"
   ]
  },
  {
   "cell_type": "code",
   "execution_count": 2,
   "metadata": {},
   "outputs": [
    {
     "name": "stderr",
     "output_type": "stream",
     "text": [
      "Using TensorFlow backend.\n"
     ]
    },
    {
     "name": "stdout",
     "output_type": "stream",
     "text": [
      "WARNING:tensorflow:From /Users/juanpabloequihualinares/anaconda3/lib/python3.7/site-packages/tensorflow/python/framework/op_def_library.py:263: colocate_with (from tensorflow.python.framework.ops) is deprecated and will be removed in a future version.\n",
      "Instructions for updating:\n",
      "Colocations handled automatically by placer.\n",
      "WARNING:tensorflow:From /Users/juanpabloequihualinares/anaconda3/lib/python3.7/site-packages/keras/backend/tensorflow_backend.py:1205: calling reduce_prod_v1 (from tensorflow.python.ops.math_ops) with keep_dims is deprecated and will be removed in a future version.\n",
      "Instructions for updating:\n",
      "keep_dims is deprecated, use keepdims instead\n",
      "_________________________________________________________________\n",
      "Layer (type)                 Output Shape              Param #   \n",
      "=================================================================\n",
      "conv2d_1 (Conv2D)            (None, 148, 148, 32)      896       \n",
      "_________________________________________________________________\n",
      "max_pooling2d_1 (MaxPooling2 (None, 74, 74, 32)        0         \n",
      "_________________________________________________________________\n",
      "conv2d_2 (Conv2D)            (None, 72, 72, 64)        18496     \n",
      "_________________________________________________________________\n",
      "max_pooling2d_2 (MaxPooling2 (None, 36, 36, 64)        0         \n",
      "_________________________________________________________________\n",
      "conv2d_3 (Conv2D)            (None, 34, 34, 128)       73856     \n",
      "_________________________________________________________________\n",
      "max_pooling2d_3 (MaxPooling2 (None, 17, 17, 128)       0         \n",
      "_________________________________________________________________\n",
      "conv2d_4 (Conv2D)            (None, 15, 15, 128)       147584    \n",
      "_________________________________________________________________\n",
      "max_pooling2d_4 (MaxPooling2 (None, 7, 7, 128)         0         \n",
      "_________________________________________________________________\n",
      "flatten_1 (Flatten)          (None, 6272)              0         \n",
      "_________________________________________________________________\n",
      "dense_1 (Dense)              (None, 512)               3211776   \n",
      "_________________________________________________________________\n",
      "dense_2 (Dense)              (None, 1)                 513       \n",
      "=================================================================\n",
      "Total params: 3,453,121\n",
      "Trainable params: 3,453,121\n",
      "Non-trainable params: 0\n",
      "_________________________________________________________________\n"
     ]
    }
   ],
   "source": [
    "from keras import layers\n",
    "from keras import models\n",
    "\n",
    "model = models.Sequential()\n",
    "model.add(layers.Conv2D(32, (3, 3), activation='relu', input_shape=(150, 150, 3)))\n",
    "model.add(layers.MaxPooling2D((2, 2)))\n",
    "model.add(layers.Conv2D(64, (3, 3), activation='relu'))\n",
    "model.add(layers.MaxPooling2D((2, 2)))\n",
    "model.add(layers.Conv2D(128, (3, 3), activation='relu'))\n",
    "model.add(layers.MaxPooling2D((2, 2)))\n",
    "model.add(layers.Conv2D(128, (3, 3), activation='relu'))\n",
    "model.add(layers.MaxPooling2D((2, 2)))\n",
    "model.add(layers.Flatten())\n",
    "model.add(layers.Dense(512, activation='relu'))\n",
    "model.add(layers.Dense(1, activation='sigmoid'))\n",
    "model.summary()"
   ]
  },
  {
   "cell_type": "code",
   "execution_count": 3,
   "metadata": {},
   "outputs": [],
   "source": [
    "from keras import optimizers\n",
    "model.compile(loss='binary_crossentropy', \n",
    "              optimizer=optimizers.RMSprop(lr=1e-4),\n",
    "              metrics=['acc'])"
   ]
  },
  {
   "cell_type": "markdown",
   "metadata": {},
   "source": [
    "## Using ImageDataGenerator to read images from directories"
   ]
  },
  {
   "cell_type": "markdown",
   "metadata": {},
   "source": [
    "As you know by now, data should be formatted into appropriately preprocessed floatingpoint tensors before being fed\n",
    "into the network. Currently, the data sits on a drive as JPEG files, so the steps for getting it into the network\n",
    "are roughly as follows:\n",
    "    \n",
    "1. Read the picture files.\n",
    "2. Decode the JPEG content to RGB grids of pixels.\n",
    "3. Convert these into floating-point tensors.\n",
    "4. Rescale the pixel values (between 0 and 255) to the [0, 1] interval (as you know, neural networks prefer to deal with small input values).\n",
    "\n",
    "It may seem a bit daunting, but fortunately Keras has utilities to take care of these steps automatically. Keras has a module with image-processing helper tools, located at keras.preprocessing.image. In particular, it contains the class ImageDataGenerator,which lets you quickly set up Python generators that can automatically turn image files\n",
    "on disk into batches of preprocessed tensors."
   ]
  },
  {
   "cell_type": "code",
   "execution_count": 17,
   "metadata": {},
   "outputs": [
    {
     "name": "stdout",
     "output_type": "stream",
     "text": [
      "Found 4000 images belonging to 2 classes.\n",
      "Found 2000 images belonging to 2 classes.\n"
     ]
    }
   ],
   "source": [
    "from keras.preprocessing.image import ImageDataGenerator\n",
    "\n",
    "train_datagen = ImageDataGenerator(rescale=1./255)\n",
    "test_datagen = ImageDataGenerator(rescale=1./255)\n",
    "\n",
    "train_generator = train_datagen.flow_from_directory(train_dir,\n",
    "                                                    target_size=(150, 150), \n",
    "                                                    batch_size=20,\n",
    "                                                    class_mode='binary')\n",
    "\n",
    "validation_generator = test_datagen.flow_from_directory(validation_dir,\n",
    "                                                        target_size=(150, 150),\n",
    "                                                        batch_size=20,\n",
    "                                                        class_mode='binary')"
   ]
  },
  {
   "cell_type": "markdown",
   "metadata": {},
   "source": [
    "Let’s fit the model to the data using the `generator`. You do so using the `fit_generator` method, the equivalent of `fit` for\n",
    "data generators like this one. It expects as its first argument a Python generator that will yield batches of inputs and\n",
    "targets indefinitely,like this one does. Because the data is being generated endlessly, the Keras model needs to know how\n",
    "many samples to draw from the generator before declaring anepoch over. This is the role of the `steps_per_epoch` argument:\n",
    "after having drawn `steps_per_epoch` batches from the generator—that is, after having run for `steps_per_epoch` gradient descent steps—the fitting process will go to the next epoch. In this case, batches are 20 samples, so it will take 100 batches until \n",
    "you see your target of 2,000 samples.\n",
    "\n",
    "When using `fit_generator`, you can pass a `validation_data` argument, much as with the fit method. It’s important to note that \n",
    "this argument is allowed to be a data generator, but it could also be a tuple of Numpy arrays. If you pass a generator as `validation_data`, then this generator is expected to yield batches of validation data endlessly; thus you should also specify\n",
    "the `validation_steps` argument, which tells the process how many batches to draw from the validation generator for evaluation."
   ]
  },
  {
   "cell_type": "code",
   "execution_count": 23,
   "metadata": {},
   "outputs": [
    {
     "name": "stdout",
     "output_type": "stream",
     "text": [
      "Epoch 1/35\n",
      "100/100 [==============================] - 90s - loss: 0.4625 - acc: 0.7800 - val_loss: 0.5522 - val_acc: 0.7350\n",
      "Epoch 2/35\n",
      "100/100 [==============================] - 90s - loss: 0.4394 - acc: 0.7925 - val_loss: 0.5041 - val_acc: 0.7400\n",
      "Epoch 3/35\n",
      "100/100 [==============================] - 89s - loss: 0.4340 - acc: 0.8065 - val_loss: 0.5030 - val_acc: 0.7600\n",
      "Epoch 4/35\n",
      "100/100 [==============================] - 89s - loss: 0.4086 - acc: 0.8130 - val_loss: 0.5307 - val_acc: 0.7250\n",
      "Epoch 5/35\n",
      "100/100 [==============================] - 90s - loss: 0.4254 - acc: 0.8085 - val_loss: 0.4967 - val_acc: 0.7350\n",
      "Epoch 6/35\n",
      "100/100 [==============================] - 90s - loss: 0.3838 - acc: 0.8255 - val_loss: 0.7128 - val_acc: 0.7000\n",
      "Epoch 7/35\n",
      "100/100 [==============================] - 90s - loss: 0.3805 - acc: 0.8315 - val_loss: 0.5898 - val_acc: 0.6900\n",
      "Epoch 8/35\n",
      "100/100 [==============================] - 90s - loss: 0.3639 - acc: 0.8440 - val_loss: 0.5363 - val_acc: 0.7150\n",
      "Epoch 9/35\n",
      "100/100 [==============================] - 90s - loss: 0.3419 - acc: 0.8475 - val_loss: 0.7369 - val_acc: 0.6850\n",
      "Epoch 10/35\n",
      "100/100 [==============================] - 92s - loss: 0.3508 - acc: 0.8450 - val_loss: 0.5384 - val_acc: 0.7450\n",
      "Epoch 11/35\n",
      "100/100 [==============================] - 89s - loss: 0.3356 - acc: 0.8590 - val_loss: 0.4814 - val_acc: 0.7750\n",
      "Epoch 12/35\n",
      "100/100 [==============================] - 85s - loss: 0.3027 - acc: 0.8675 - val_loss: 0.6626 - val_acc: 0.6950\n",
      "Epoch 13/35\n",
      "100/100 [==============================] - 86s - loss: 0.3038 - acc: 0.8740 - val_loss: 0.5649 - val_acc: 0.7550\n",
      "Epoch 14/35\n",
      "100/100 [==============================] - 85s - loss: 0.3002 - acc: 0.8795 - val_loss: 0.5683 - val_acc: 0.7400\n",
      "Epoch 15/35\n",
      "100/100 [==============================] - 85s - loss: 0.2771 - acc: 0.8835 - val_loss: 0.5470 - val_acc: 0.7750\n",
      "Epoch 16/35\n",
      "100/100 [==============================] - 85s - loss: 0.2662 - acc: 0.8925 - val_loss: 0.5008 - val_acc: 0.7600\n",
      "Epoch 17/35\n",
      "100/100 [==============================] - 85s - loss: 0.2374 - acc: 0.9005 - val_loss: 0.6495 - val_acc: 0.7550\n",
      "Epoch 18/35\n",
      "100/100 [==============================] - 86s - loss: 0.2284 - acc: 0.9095 - val_loss: 0.6978 - val_acc: 0.7250\n",
      "Epoch 19/35\n",
      "100/100 [==============================] - 85s - loss: 0.2255 - acc: 0.9150 - val_loss: 0.4989 - val_acc: 0.7950\n",
      "Epoch 20/35\n",
      "100/100 [==============================] - 85s - loss: 0.2231 - acc: 0.9140 - val_loss: 0.5634 - val_acc: 0.7550\n",
      "Epoch 21/35\n",
      "100/100 [==============================] - 86s - loss: 0.1907 - acc: 0.9200 - val_loss: 0.7091 - val_acc: 0.7200\n",
      "Epoch 22/35\n",
      "100/100 [==============================] - 87s - loss: 0.1882 - acc: 0.9250 - val_loss: 0.5338 - val_acc: 0.7750\n",
      "Epoch 23/35\n",
      "100/100 [==============================] - 85s - loss: 0.1748 - acc: 0.9300 - val_loss: 0.7078 - val_acc: 0.7150\n",
      "Epoch 24/35\n",
      "100/100 [==============================] - 85s - loss: 0.1594 - acc: 0.9410 - val_loss: 0.7988 - val_acc: 0.7200\n",
      "Epoch 25/35\n",
      "100/100 [==============================] - 86s - loss: 0.1565 - acc: 0.9450 - val_loss: 0.5590 - val_acc: 0.8150\n",
      "Epoch 26/35\n",
      "100/100 [==============================] - 86s - loss: 0.1402 - acc: 0.9470 - val_loss: 0.4481 - val_acc: 0.7900\n",
      "Epoch 27/35\n",
      "100/100 [==============================] - 86s - loss: 0.1315 - acc: 0.9550 - val_loss: 0.6881 - val_acc: 0.7500\n",
      "Epoch 28/35\n",
      "100/100 [==============================] - 86s - loss: 0.1194 - acc: 0.9585 - val_loss: 0.6287 - val_acc: 0.7650\n",
      "Epoch 29/35\n",
      "100/100 [==============================] - 86s - loss: 0.1166 - acc: 0.9595 - val_loss: 0.5712 - val_acc: 0.7850\n",
      "Epoch 30/35\n",
      "100/100 [==============================] - 86s - loss: 0.0985 - acc: 0.9650 - val_loss: 0.7052 - val_acc: 0.8050\n",
      "Epoch 31/35\n",
      "100/100 [==============================] - 86s - loss: 0.1017 - acc: 0.9650 - val_loss: 0.9647 - val_acc: 0.6900\n",
      "Epoch 32/35\n",
      "100/100 [==============================] - 85s - loss: 0.0823 - acc: 0.9705 - val_loss: 0.7254 - val_acc: 0.7500\n",
      "Epoch 33/35\n",
      "100/100 [==============================] - 86s - loss: 0.0863 - acc: 0.9735 - val_loss: 0.8559 - val_acc: 0.7200\n",
      "Epoch 34/35\n",
      "100/100 [==============================] - 86s - loss: 0.0763 - acc: 0.9760 - val_loss: 0.8073 - val_acc: 0.7850\n",
      "Epoch 35/35\n",
      "100/100 [==============================] - 86s - loss: 0.0688 - acc: 0.9805 - val_loss: 1.0153 - val_acc: 0.7000\n"
     ]
    }
   ],
   "source": [
    "history = model.fit_generator(train_generator,\n",
    "                              steps_per_epoch=100,\n",
    "                              epochs=35,\n",
    "                              validation_data=validation_generator,\n",
    "                              validation_steps=10)"
   ]
  },
  {
   "cell_type": "code",
   "execution_count": 24,
   "metadata": {},
   "outputs": [],
   "source": [
    "model.save('cats_and_dogs_small_1.h5')"
   ]
  },
  {
   "cell_type": "code",
   "execution_count": 25,
   "metadata": {},
   "outputs": [
    {
     "data": {
      "text/plain": [
       "<module 'matplotlib.pyplot' from '/Users/juanpabloequihualinares/anaconda3/lib/python3.7/site-packages/matplotlib/pyplot.py'>"
      ]
     },
     "execution_count": 25,
     "metadata": {},
     "output_type": "execute_result"
    },
    {
     "data": {
      "image/png": "[encoded data removed]",
      "text/plain": [
       "<Figure size 432x288 with 1 Axes>"
      ]
     },
     "metadata": {
      "needs_background": "light"
     },
     "output_type": "display_data"
    },
    {
     "data": {
      "image/png": "[encoded data removed]",
      "text/plain": [
       "<Figure size 432x288 with 1 Axes>"
      ]
     },
     "metadata": {
      "needs_background": "light"
     },
     "output_type": "display_data"
    }
   ],
   "source": [
    "import matplotlib.pyplot as plt\n",
    "\n",
    "acc = history.history['acc']\n",
    "val_acc = history.history['val_acc']\n",
    "loss = history.history['loss']\n",
    "val_loss = history.history['val_loss']\n",
    "\n",
    "epochs = range(1, len(acc) + 1)\n",
    "\n",
    "plt.plot(epochs, acc, 'bo', label='Training acc')\n",
    "plt.plot(epochs, val_acc, 'b', label='Validation acc')\n",
    "plt.title('Training and validation accuracy')\n",
    "plt.legend()\n",
    "\n",
    "plt.figure()\n",
    "\n",
    "plt.plot(epochs, loss, 'bo', label='Training loss')\n",
    "plt.plot(epochs, val_loss, 'b', label='Validation loss')\n",
    "plt.title('Training and validation loss')\n",
    "plt.legend()\n",
    "\n",
    "plt"
   ]
  },
  {
   "cell_type": "markdown",
   "metadata": {},
   "source": [
    "## Convolutional Networks with Dropout"
   ]
  },
  {
   "cell_type": "code",
   "execution_count": 26,
   "metadata": {},
   "outputs": [
    {
     "name": "stdout",
     "output_type": "stream",
     "text": [
      "WARNING:tensorflow:From /Users/juanpabloequihualinares/anaconda3/lib/python3.7/site-packages/keras/backend/tensorflow_backend.py:2888: calling dropout (from tensorflow.python.ops.nn_ops) with keep_prob is deprecated and will be removed in a future version.\n",
      "Instructions for updating:\n",
      "Please use `rate` instead of `keep_prob`. Rate should be set to `rate = 1 - keep_prob`.\n"
     ]
    }
   ],
   "source": [
    "model = models.Sequential()\n",
    "model.add(layers.Conv2D(32, (3, 3), activation='relu',\n",
    "input_shape=(150, 150, 3)))\n",
    "model.add(layers.MaxPooling2D((2, 2)))\n",
    "model.add(layers.Conv2D(64, (3, 3), activation='relu'))\n",
    "model.add(layers.MaxPooling2D((2, 2)))\n",
    "model.add(layers.Conv2D(128, (3, 3), activation='relu'))\n",
    "model.add(layers.MaxPooling2D((2, 2)))\n",
    "model.add(layers.Conv2D(128, (3, 3), activation='relu'))\n",
    "model.add(layers.MaxPooling2D((2, 2)))\n",
    "model.add(layers.Flatten())\n",
    "model.add(layers.Dropout(0.5))\n",
    "model.add(layers.Dense(512, activation='relu'))\n",
    "model.add(layers.Dense(1, activation='sigmoid'))\n",
    "\n",
    "model.compile(loss='binary_crossentropy',\n",
    "              optimizer=optimizers.RMSprop(lr=1e-4),\n",
    "              metrics=['acc'])"
   ]
  },
  {
   "cell_type": "code",
   "execution_count": 27,
   "metadata": {},
   "outputs": [
    {
     "name": "stdout",
     "output_type": "stream",
     "text": [
      "Found 4000 images belonging to 2 classes.\n",
      "Found 2000 images belonging to 2 classes.\n",
      "Epoch 1/25\n",
      "100/100 [==============================] - 235s - loss: 0.6884 - acc: 0.5284 - val_loss: 0.6764 - val_acc: 0.5444\n",
      "Epoch 2/25\n",
      "100/100 [==============================] - 232s - loss: 0.6796 - acc: 0.5631 - val_loss: 0.6576 - val_acc: 0.6111\n",
      "Epoch 3/25\n",
      "100/100 [==============================] - 234s - loss: 0.6658 - acc: 0.5875 - val_loss: 0.6527 - val_acc: 0.6187\n",
      "Epoch 4/25\n",
      "100/100 [==============================] - 230s - loss: 0.6635 - acc: 0.5988 - val_loss: 0.6642 - val_acc: 0.5657\n",
      "Epoch 5/25\n",
      "100/100 [==============================] - 234s - loss: 0.6435 - acc: 0.6259 - val_loss: 0.6070 - val_acc: 0.6799\n",
      "Epoch 6/25\n",
      "100/100 [==============================] - 226s - loss: 0.6287 - acc: 0.6353 - val_loss: 0.5894 - val_acc: 0.6837\n",
      "Epoch 7/25\n",
      "100/100 [==============================] - 225s - loss: 0.6116 - acc: 0.6628 - val_loss: 0.5760 - val_acc: 0.7159\n",
      "Epoch 8/25\n",
      "100/100 [==============================] - 230s - loss: 0.5968 - acc: 0.6713 - val_loss: 0.5757 - val_acc: 0.6989\n",
      "Epoch 9/25\n",
      "100/100 [==============================] - 233s - loss: 0.5893 - acc: 0.6803 - val_loss: 0.5561 - val_acc: 0.7064\n",
      "Epoch 10/25\n",
      "100/100 [==============================] - 207s - loss: 0.5923 - acc: 0.6791 - val_loss: 0.5843 - val_acc: 0.6730\n",
      "Epoch 11/25\n",
      "100/100 [==============================] - 156s - loss: 0.5848 - acc: 0.6866 - val_loss: 0.5447 - val_acc: 0.7241\n",
      "Epoch 12/25\n",
      "100/100 [==============================] - 157s - loss: 0.5801 - acc: 0.6953 - val_loss: 0.5413 - val_acc: 0.7064\n",
      "Epoch 13/25\n",
      "100/100 [==============================] - 158s - loss: 0.5639 - acc: 0.7031 - val_loss: 0.5389 - val_acc: 0.7165\n",
      "Epoch 14/25\n",
      "100/100 [==============================] - 230s - loss: 0.5729 - acc: 0.6994 - val_loss: 0.5339 - val_acc: 0.7424\n",
      "Epoch 15/25\n",
      "100/100 [==============================] - 229s - loss: 0.5658 - acc: 0.7066 - val_loss: 0.5233 - val_acc: 0.7254\n",
      "Epoch 16/25\n",
      "100/100 [==============================] - 229s - loss: 0.5595 - acc: 0.7153 - val_loss: 0.5206 - val_acc: 0.7424\n",
      "Epoch 17/25\n",
      "100/100 [==============================] - 233s - loss: 0.5567 - acc: 0.7037 - val_loss: 0.5195 - val_acc: 0.7386\n",
      "Epoch 18/25\n",
      "100/100 [==============================] - 237s - loss: 0.5470 - acc: 0.7203 - val_loss: 0.5094 - val_acc: 0.7406\n",
      "Epoch 19/25\n",
      "100/100 [==============================] - 237s - loss: 0.5538 - acc: 0.7041 - val_loss: 0.5113 - val_acc: 0.7494\n",
      "Epoch 20/25\n",
      "100/100 [==============================] - 244s - loss: 0.5445 - acc: 0.7134 - val_loss: 0.4997 - val_acc: 0.7431\n",
      "Epoch 21/25\n",
      "100/100 [==============================] - 234s - loss: 0.5440 - acc: 0.7253 - val_loss: 0.5770 - val_acc: 0.6950\n",
      "Epoch 22/25\n",
      "100/100 [==============================] - 232s - loss: 0.5444 - acc: 0.7169 - val_loss: 0.4914 - val_acc: 0.7550\n",
      "Epoch 23/25\n",
      "100/100 [==============================] - 182s - loss: 0.5325 - acc: 0.7262 - val_loss: 0.5081 - val_acc: 0.7418\n",
      "Epoch 24/25\n",
      "100/100 [==============================] - 226s - loss: 0.5307 - acc: 0.7238 - val_loss: 0.5464 - val_acc: 0.7266\n",
      "Epoch 25/25\n",
      "100/100 [==============================] - 222s - loss: 0.5320 - acc: 0.7241 - val_loss: 0.4710 - val_acc: 0.7740\n"
     ]
    }
   ],
   "source": [
    "train_datagen = ImageDataGenerator(rescale=1./255,\n",
    "                                   rotation_range=40,\n",
    "                                   width_shift_range=0.2,\n",
    "                                   height_shift_range=0.2,\n",
    "                                   shear_range=0.2,\n",
    "                                   zoom_range=0.2,\n",
    "                                   horizontal_flip=True,)\n",
    "\n",
    "test_datagen = ImageDataGenerator(rescale=1./255)\n",
    "\n",
    "train_generator = train_datagen.flow_from_directory(train_dir,\n",
    "                                                    target_size=(150, 150),\n",
    "                                                    batch_size=32,\n",
    "                                                    class_mode='binary')\n",
    "\n",
    "validation_generator = test_datagen.flow_from_directory(validation_dir,\n",
    "                                                        target_size=(150, 150),\n",
    "                                                        batch_size=32,\n",
    "                                                        class_mode='binary')\n",
    "\n",
    "history = model.fit_generator(train_generator,\n",
    "                              steps_per_epoch=100,\n",
    "                              epochs=25,\n",
    "                              validation_data=validation_generator,\n",
    "                              validation_steps=50)"
   ]
  },
  {
   "cell_type": "code",
   "execution_count": 28,
   "metadata": {},
   "outputs": [
    {
     "data": {
      "image/png": "[encoded data removed]",
      "text/plain": [
       "<Figure size 432x288 with 1 Axes>"
      ]
     },
     "metadata": {
      "needs_background": "light"
     },
     "output_type": "display_data"
    },
    {
     "data": {
      "image/png": "[encoded data removed]",
      "text/plain": [
       "<Figure size 432x288 with 1 Axes>"
      ]
     },
     "metadata": {
      "needs_background": "light"
     },
     "output_type": "display_data"
    }
   ],
   "source": [
    "import matplotlib.pyplot as plt\n",
    "\n",
    "acc = history.history['acc']\n",
    "val_acc = history.history['val_acc']\n",
    "loss = history.history['loss']\n",
    "val_loss = history.history['val_loss']\n",
    "\n",
    "epochs = range(1, len(acc) + 1)\n",
    "\n",
    "plt.plot(epochs, acc, 'bo', label='Training acc')\n",
    "plt.plot(epochs, val_acc, 'b', label='Validation acc')\n",
    "plt.title('Training and validation accuracy')\n",
    "plt.legend()\n",
    "\n",
    "plt.figure()\n",
    "\n",
    "plt.plot(epochs, loss, 'bo', label='Training loss')\n",
    "plt.plot(epochs, val_loss, 'b', label='Validation loss')\n",
    "plt.title('Training and validation loss')\n",
    "plt.legend()\n",
    "\n",
    "plt.show()"
   ]
  },
  {
   "cell_type": "code",
   "execution_count": null,
   "metadata": {},
   "outputs": [],
   "source": []
  }
 ],
 "metadata": {
  "kernelspec": {
   "display_name": "Python 3",
   "language": "python",
   "name": "python3"
  },
  "language_info": {
   "codemirror_mode": {
    "name": "ipython",
    "version": 3
   },
   "file_extension": ".py",
   "mimetype": "text/x-python",
   "name": "python",
   "nbconvert_exporter": "python",
   "pygments_lexer": "ipython3",
   "version": "3.7.0"
  }
 },
 "nbformat": 4,
 "nbformat_minor": 2
}
